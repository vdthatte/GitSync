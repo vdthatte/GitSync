{
 "cells": [
  {
   "cell_type": "markdown",
   "metadata": {},
   "source": [
    "# Install gitpy \n",
    "    pip3 install gitpy   (for python 3.0 or greater)\n",
    "    pip  install gitpy   (for python 2.6/2.7)\n",
    "    \n",
    "    Documentation url : http://gitpython.readthedocs.io/en/stable/tutorial.html"
   ]
  },
  {
   "cell_type": "code",
   "execution_count": 32,
   "metadata": {},
   "outputs": [],
   "source": [
    "import sys\n",
    "from git import Repo\n",
    "\n",
    "COMMITS_TO_PRINT = 5"
   ]
  },
  {
   "cell_type": "markdown",
   "metadata": {},
   "source": [
    "# Reading Commit and branch Info for a Repo"
   ]
  },
  {
   "cell_type": "code",
   "execution_count": 43,
   "metadata": {},
   "outputs": [],
   "source": [
    "def print_commit(commit):\n",
    "    \"\"\"\n",
    "    parameters : commit type object\n",
    "    return : None\n",
    "    input : Only parameters\n",
    "    output : prints commit summary and author info\n",
    "    \"\"\"\n",
    "    print('------')\n",
    "    print(str(commit.hexsha))\n",
    "    print(\"\\{}\\\" by {} ({})\".format(commit.summary, \n",
    "                                    commit.author.name, \n",
    "                                    commit.author.email))\n",
    "    "
   ]
  },
  {
   "cell_type": "code",
   "execution_count": 44,
   "metadata": {},
   "outputs": [],
   "source": [
    "def print_repo(repo):\n",
    "    \"\"\"\n",
    "    parameters : repo type object\n",
    "    return : None\n",
    "    input : Only parameters\n",
    "    output : prints Repo description, active branch name and other info\n",
    "    \"\"\"\n",
    "    print('Repo description: {}'.format(repo.description))\n",
    "    print('Repo active branch is {}'.format(repo.active_branch))\n",
    "    \n",
    "    try:\n",
    "        for remote in repo.remotes:\n",
    "            print('Remote named \"{}\" with URL \"{}\"'.format(remote, remote.url) )\n",
    "        print('Last commit for repo is {}.'.format(str(repo.head.commit.hexsha)))\n",
    "    except:\n",
    "        print(\"No commits to print\")"
   ]
  },
  {
   "cell_type": "code",
   "execution_count": 45,
   "metadata": {},
   "outputs": [],
   "source": [
    "def check_repo(path):\n",
    "    \"\"\"\n",
    "    paramaters : None\n",
    "    return : None\n",
    "    input : Repo path, if invalid path i\n",
    "    output : Repo and commit info\n",
    "    purpose : To test python git functionality with a dummy git repo\n",
    "    \"\"\"\n",
    "    \n",
    "    try:\n",
    "        repo = Repo(path)\n",
    "    except:\n",
    "        print(sys.exc_info()[0])\n",
    "        return\n",
    "    \n",
    "    #checking if the repo is loaded correctly\n",
    "    if not repo.bare:\n",
    "        print('Repo at {} successfully loaded.'.format(path))\n",
    "        print_repo(repo)\n",
    "        \n",
    "        #getting the list COMMIT_TO_PRINT numbers of commit\n",
    "        try:\n",
    "            commits = list(repo.iter_commits('master'))[:COMMITS_TO_PRINT]\n",
    "            for commit in commits:\n",
    "                print_comit(commit)\n",
    "                \n",
    "        except:\n",
    "            print(sys.exc_info()[0])\n",
    "    else:\n",
    "        print('Path Error: Could Not load repo at {}'.format(path))\n",
    "    "
   ]
  },
  {
   "cell_type": "markdown",
   "metadata": {},
   "source": [
    "# Testing info reading functions"
   ]
  },
  {
   "cell_type": "code",
   "execution_count": 48,
   "metadata": {},
   "outputs": [],
   "source": [
    "def test_print_info():\n",
    "    \"\"\"\n",
    "    Testing function for commit and information reading\n",
    "    \"\"\"\n",
    "    path = input(\"Enter the Repo path: \").strip()\n",
    "    \n",
    "    while(path and path != \"exit\"):\n",
    "        check_repo(path)\n",
    "        path = input(\"----------------------\\n\\nEnter the Repo path (enter 'exit' to quit) : \").strip()\n",
    "    \n",
    "    "
   ]
  },
  {
   "cell_type": "code",
   "execution_count": 49,
   "metadata": {},
   "outputs": [
    {
     "name": "stdout",
     "output_type": "stream",
     "text": [
      "Enter the Repo path: /Users/shivamswarnkar/Desktop/GitSync/GitSync\n",
      "Repo at /Users/shivamswarnkar/Desktop/GitSync/GitSync successfully loaded.\n",
      "Repo description: Unnamed repository; edit this file 'description' to name the repository.\n",
      "Repo active branch is master\n",
      "Remote named \"origin\" with URL \"https://github.com/vdthatte/GitSync.git\"\n",
      "Last commit for repo is 24cdfd059eea888023c8e471580543a5d52a96ef.\n",
      "<class 'NameError'>\n",
      "----------------------\n",
      "\n",
      "Enter the Repo path (enter 'exit' to quit) : /Uesrs/shivamswarnkar/Desktop/pyGit/dummyRepo\n",
      "<class 'git.exc.NoSuchPathError'>\n",
      "----------------------\n",
      "\n",
      "Enter the Repo path (enter 'exit' to quit) : /Users/shivamswarnkar/Desktop/pyGit/dummyRepo\n",
      "Repo at /Users/shivamswarnkar/Desktop/pyGit/dummyRepo successfully loaded.\n",
      "Repo description: Unnamed repository; edit this file 'description' to name the repository.\n",
      "Repo active branch is master\n",
      "No commits to print\n",
      "<class 'git.exc.GitCommandError'>\n",
      "----------------------\n",
      "\n",
      "Enter the Repo path (enter 'exit' to quit) : exit\n"
     ]
    }
   ],
   "source": [
    "test_print_info()"
   ]
  },
  {
   "cell_type": "markdown",
   "metadata": {},
   "source": [
    "# Editing Repo"
   ]
  },
  {
   "cell_type": "code",
   "execution_count": null,
   "metadata": {},
   "outputs": [],
   "source": []
  }
 ],
 "metadata": {
  "kernelspec": {
   "display_name": "Python 3",
   "language": "python",
   "name": "python3"
  },
  "language_info": {
   "codemirror_mode": {
    "name": "ipython",
    "version": 3
   },
   "file_extension": ".py",
   "mimetype": "text/x-python",
   "name": "python",
   "nbconvert_exporter": "python",
   "pygments_lexer": "ipython3",
   "version": "3.6.2"
  }
 },
 "nbformat": 4,
 "nbformat_minor": 2
}
